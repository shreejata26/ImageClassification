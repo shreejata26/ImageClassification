{
 "cells": [
  {
   "cell_type": "code",
   "execution_count": null,
   "metadata": {},
   "outputs": [],
   "source": [
    "##imports\n",
    "\n",
    "import tensorflow as tf\n",
    "from tensorflow import keras\n",
    "from tensorflow.keras import models\n",
    "from tensorflow.keras.models import Sequential\n",
    "from tensorflow.keras import layers\n",
    "from tensorflow.keras.layers import Dense, Conv2D, Flatten, Dropout, MaxPooling2D\n",
    "from tensorflow.keras.preprocessing.image import ImageDataGenerator\n",
    "from keras.preprocessing.image import ImageDataGenerator \n",
    "from keras.layers import BatchNormalization\n",
    "\n",
    "import os\n",
    "import numpy as np\n",
    "import matplotlib.pyplot as plt\n",
    "import pathlib\n",
    "import zipfile\n",
    "import cv2\n",
    "import pickle"
   ]
  },
  {
   "cell_type": "code",
   "execution_count": 0,
   "metadata": {
    "colab": {},
    "colab_type": "code",
    "id": "VfEEBiQQQpU0"
   },
   "outputs": [],
   "source": [
    "data_root=pathlib.Path('/content/drive/My Drive/101_ObjectCategories_resized')"
   ]
  },
  {
   "cell_type": "code",
   "execution_count": 0,
   "metadata": {
    "colab": {},
    "colab_type": "code",
    "id": "2byNnZNN9yt2"
   },
   "outputs": [],
   "source": [
    "labels = []\n",
    "# i=1\n",
    "for item in data_root.glob('*'):\n",
    "  if item.name!='.DS_Store':\n",
    "    # print(item.name)\n",
    "    labels.append(item.name)"
   ]
  },
  {
   "cell_type": "code",
   "execution_count": 0,
   "metadata": {
    "colab": {},
    "colab_type": "code",
    "id": "4JgpP3P091u3"
   },
   "outputs": [],
   "source": [
    "labels_lst = []\n",
    "training_data = []\n",
    "i=0\n",
    "for category in labels:\n",
    "  \n",
    "  path = os.path.join(data_root,category)  \n",
    " \n",
    "  labels_lst.append([item.name,i])\n",
    "  \n",
    "  for img in os.listdir(path):  \n",
    "      img_array = cv2.imread(os.path.join(path,img)) \n",
    "      training_data.append([img_array,i])\n",
    "       \n",
    "  i=i+1"
   ]
  },
  {
   "cell_type": "code",
   "execution_count": 0,
   "metadata": {
    "colab": {},
    "colab_type": "code",
    "id": "9IRoZuDr9_WO"
   },
   "outputs": [],
   "source": [
    "pickle_out = open(\"/content/drive/My Drive/training_data.pickle\",\"wb\")\n",
    "pickle.dump(training_data, pickle_out)"
   ]
  },
  {
   "cell_type": "code",
   "execution_count": 3,
   "metadata": {
    "colab": {
     "base_uri": "https://localhost:8080/",
     "height": 122
    },
    "colab_type": "code",
    "id": "NgYUHk3nMPpK",
    "outputId": "d2e44dbc-1a00-4a6e-a768-db1ac93bdf84"
   },
   "outputs": [
    {
     "name": "stdout",
     "output_type": "stream",
     "text": [
      "Go to this URL in a browser: https://accounts.google.com/o/oauth2/auth?client_id=947318989803-6bn6qk8qdgf4n4g3pfee6491hc0brc4i.apps.googleusercontent.com&redirect_uri=urn%3aietf%3awg%3aoauth%3a2.0%3aoob&response_type=code&scope=email%20https%3a%2f%2fwww.googleapis.com%2fauth%2fdocs.test%20https%3a%2f%2fwww.googleapis.com%2fauth%2fdrive%20https%3a%2f%2fwww.googleapis.com%2fauth%2fdrive.photos.readonly%20https%3a%2f%2fwww.googleapis.com%2fauth%2fpeopleapi.readonly\n",
      "\n",
      "Enter your authorization code:\n",
      "··········\n",
      "Mounted at /content/drive\n"
     ]
    }
   ],
   "source": [
    "##prepare data\n",
    "from google.colab import drive\n",
    "drive.mount('/content/drive')"
   ]
  },
  {
   "cell_type": "code",
   "execution_count": 0,
   "metadata": {
    "colab": {},
    "colab_type": "code",
    "id": "cgL_OThfMTbV"
   },
   "outputs": [],
   "source": [
    "\n",
    "pickle_in = open(\"/content/drive/My Drive/training_data.pickle\",\"rb\")\n",
    "training_data = pickle.load(pickle_in)\n"
   ]
  },
  {
   "cell_type": "code",
   "execution_count": 0,
   "metadata": {
    "colab": {},
    "colab_type": "code",
    "id": "GKjJ8KSLMb_9"
   },
   "outputs": [],
   "source": [
    "import random\n",
    "random.shuffle(training_data)\n",
    "\n",
    "X = []\n",
    "y = []\n",
    "\n",
    "for features,label in training_data:\n",
    "    X.append(features)\n",
    "    y.append(label)\n",
    "#normalize image array\n",
    "X = (np.asarray(X, dtype=np.float32))/255.0"
   ]
  },
  {
   "cell_type": "code",
   "execution_count": 0,
   "metadata": {
    "colab": {},
    "colab_type": "code",
    "id": "cXv2wW2uMfLd"
   },
   "outputs": [],
   "source": [
    "##one-hot encode labels\n",
    "\n",
    "from sklearn import preprocessing\n",
    "from keras import utils\n",
    "from keras.utils import np_utils\n",
    "from keras.utils.np_utils import to_categorical\n",
    "\n",
    "# encode class values as integers\n",
    "encoder = preprocessing.LabelEncoder()\n",
    "encoder.fit(y)\n",
    "encoded_Y = encoder.transform(y)\n",
    "# convert integers to dummy variables (i.e. one hot encoded)\n",
    "dummy_y = np_utils.to_categorical(encoded_Y)"
   ]
  },
  {
   "cell_type": "code",
   "execution_count": 23,
   "metadata": {
    "colab": {
     "base_uri": "https://localhost:8080/",
     "height": 34
    },
    "colab_type": "code",
    "id": "f44oGF7iMhtd",
    "outputId": "289883c5-8823-41d5-ef40-daad6f9103ab"
   },
   "outputs": [
    {
     "data": {
      "text/plain": [
       "(8677, 64, 64, 3)"
      ]
     },
     "execution_count": 23,
     "metadata": {
      "tags": []
     },
     "output_type": "execute_result"
    }
   ],
   "source": [
    "X.shape"
   ]
  },
  {
   "cell_type": "code",
   "execution_count": 75,
   "metadata": {
    "colab": {
     "base_uri": "https://localhost:8080/",
     "height": 425
    },
    "colab_type": "code",
    "id": "iFuBiENUMk1b",
    "outputId": "af9b4742-e830-4676-80eb-83f1324e780d"
   },
   "outputs": [
    {
     "name": "stdout",
     "output_type": "stream",
     "text": [
      "Model: \"sequential_25\"\n",
      "_________________________________________________________________\n",
      "Layer (type)                 Output Shape              Param #   \n",
      "=================================================================\n",
      "conv2d_52 (Conv2D)           (None, 64, 64, 32)        2432      \n",
      "_________________________________________________________________\n",
      "max_pooling2d_50 (MaxPooling (None, 16, 16, 32)        0         \n",
      "_________________________________________________________________\n",
      "conv2d_53 (Conv2D)           (None, 16, 16, 64)        51264     \n",
      "_________________________________________________________________\n",
      "max_pooling2d_51 (MaxPooling (None, 4, 4, 64)          0         \n",
      "_________________________________________________________________\n",
      "flatten_23 (Flatten)         (None, 1024)              0         \n",
      "_________________________________________________________________\n",
      "dense_69 (Dense)             (None, 1024)              1049600   \n",
      "_________________________________________________________________\n",
      "dense_70 (Dense)             (None, 84)                86100     \n",
      "_________________________________________________________________\n",
      "dense_71 (Dense)             (None, 101)               8585      \n",
      "=================================================================\n",
      "Total params: 1,197,981\n",
      "Trainable params: 1,197,981\n",
      "Non-trainable params: 0\n",
      "_________________________________________________________________\n"
     ]
    }
   ],
   "source": [
    "##LeNet5-baseline\n",
    "\n",
    "model_base = models.Sequential()\n",
    "model_base.add(layers.Conv2D(32, (5, 5), activation='relu',input_shape =(64, 64, 3), padding='same'))\n",
    "model_base.add(layers.MaxPooling2D((4, 4),padding='valid',strides=4))\n",
    "\n",
    "model_base.add(layers.Conv2D(64, (5, 5), activation='relu', padding='same'))\n",
    "model_base.add(layers.MaxPooling2D((4, 4), padding='same',strides=4))\n",
    "\n",
    "model_base.add(layers.Flatten())\n",
    "model_base.add(Dense(1024, activation='relu'))\n",
    "model_base.add(Dense(84, activation='relu'))\n",
    "model_base.add(Dense(101, activation='softmax'))\n",
    "model_base.summary()"
   ]
  },
  {
   "cell_type": "code",
   "execution_count": 76,
   "metadata": {
    "colab": {
     "base_uri": "https://localhost:8080/",
     "height": 1000
    },
    "colab_type": "code",
    "id": "q9vvcXdoMsIs",
    "outputId": "82d91740-a300-4d65-e9f9-f5df77172a6e"
   },
   "outputs": [
    {
     "name": "stdout",
     "output_type": "stream",
     "text": [
      "Train on 7809 samples, validate on 868 samples\n",
      "Epoch 1/100\n",
      "7809/7809 [==============================] - 2s 298us/sample - loss: 4.4038 - acc: 0.0893 - val_loss: 4.2774 - val_acc: 0.1025\n",
      "Epoch 2/100\n",
      "7809/7809 [==============================] - 1s 120us/sample - loss: 4.1841 - acc: 0.1593 - val_loss: 4.1014 - val_acc: 0.2189\n",
      "Epoch 3/100\n",
      "7809/7809 [==============================] - 1s 120us/sample - loss: 3.9694 - acc: 0.2276 - val_loss: 3.8588 - val_acc: 0.2327\n",
      "Epoch 4/100\n",
      "7809/7809 [==============================] - 1s 122us/sample - loss: 3.7371 - acc: 0.2415 - val_loss: 3.6947 - val_acc: 0.2408\n",
      "Epoch 5/100\n",
      "7809/7809 [==============================] - 1s 119us/sample - loss: 3.5749 - acc: 0.2633 - val_loss: 3.5194 - val_acc: 0.2546\n",
      "Epoch 6/100\n",
      "7809/7809 [==============================] - 1s 120us/sample - loss: 3.4167 - acc: 0.2847 - val_loss: 3.3861 - val_acc: 0.2984\n",
      "Epoch 7/100\n",
      "7809/7809 [==============================] - 1s 119us/sample - loss: 3.3090 - acc: 0.3112 - val_loss: 3.2927 - val_acc: 0.3111\n",
      "Epoch 8/100\n",
      "7809/7809 [==============================] - 1s 120us/sample - loss: 3.1903 - acc: 0.3318 - val_loss: 3.2279 - val_acc: 0.3353\n",
      "Epoch 9/100\n",
      "7809/7809 [==============================] - 1s 120us/sample - loss: 3.0770 - acc: 0.3523 - val_loss: 3.0842 - val_acc: 0.3721\n",
      "Epoch 10/100\n",
      "7809/7809 [==============================] - 1s 121us/sample - loss: 2.9838 - acc: 0.3706 - val_loss: 3.0051 - val_acc: 0.3859\n",
      "Epoch 11/100\n",
      "7809/7809 [==============================] - 1s 122us/sample - loss: 2.8644 - acc: 0.3916 - val_loss: 2.9231 - val_acc: 0.3952\n",
      "Epoch 12/100\n",
      "7809/7809 [==============================] - 1s 120us/sample - loss: 2.7642 - acc: 0.4065 - val_loss: 2.8274 - val_acc: 0.4021\n",
      "Epoch 13/100\n",
      "7809/7809 [==============================] - 1s 122us/sample - loss: 2.6663 - acc: 0.4196 - val_loss: 2.7850 - val_acc: 0.4171\n",
      "Epoch 14/100\n",
      "7809/7809 [==============================] - 1s 121us/sample - loss: 2.5951 - acc: 0.4351 - val_loss: 2.7749 - val_acc: 0.4124\n",
      "Epoch 15/100\n",
      "7809/7809 [==============================] - 1s 120us/sample - loss: 2.5124 - acc: 0.4455 - val_loss: 2.6512 - val_acc: 0.4401\n",
      "Epoch 16/100\n",
      "7809/7809 [==============================] - 1s 121us/sample - loss: 2.4314 - acc: 0.4620 - val_loss: 2.6387 - val_acc: 0.4389\n",
      "Epoch 17/100\n",
      "7809/7809 [==============================] - 1s 122us/sample - loss: 2.3705 - acc: 0.4723 - val_loss: 2.5406 - val_acc: 0.4516\n",
      "Epoch 18/100\n",
      "7809/7809 [==============================] - 1s 124us/sample - loss: 2.2999 - acc: 0.4855 - val_loss: 2.4974 - val_acc: 0.4735\n",
      "Epoch 19/100\n",
      "7809/7809 [==============================] - 1s 122us/sample - loss: 2.2543 - acc: 0.4943 - val_loss: 2.4726 - val_acc: 0.4574\n",
      "Epoch 20/100\n",
      "7809/7809 [==============================] - 1s 122us/sample - loss: 2.1921 - acc: 0.5045 - val_loss: 2.4282 - val_acc: 0.4724\n",
      "Epoch 21/100\n",
      "7809/7809 [==============================] - 1s 123us/sample - loss: 2.1269 - acc: 0.5216 - val_loss: 2.4213 - val_acc: 0.4700\n",
      "Epoch 22/100\n",
      "7809/7809 [==============================] - 1s 123us/sample - loss: 2.0973 - acc: 0.5245 - val_loss: 2.3875 - val_acc: 0.4700\n",
      "Epoch 23/100\n",
      "7809/7809 [==============================] - 1s 122us/sample - loss: 2.0519 - acc: 0.5302 - val_loss: 2.3270 - val_acc: 0.4839\n",
      "Epoch 24/100\n",
      "7809/7809 [==============================] - 1s 123us/sample - loss: 1.9846 - acc: 0.5459 - val_loss: 2.3055 - val_acc: 0.4919\n",
      "Epoch 25/100\n",
      "7809/7809 [==============================] - 1s 124us/sample - loss: 1.9435 - acc: 0.5533 - val_loss: 2.2833 - val_acc: 0.4862\n",
      "Epoch 26/100\n",
      "7809/7809 [==============================] - 1s 123us/sample - loss: 1.8984 - acc: 0.5693 - val_loss: 2.2605 - val_acc: 0.5012\n",
      "Epoch 27/100\n",
      "7809/7809 [==============================] - 1s 121us/sample - loss: 1.8828 - acc: 0.5687 - val_loss: 2.2331 - val_acc: 0.5035\n",
      "Epoch 28/100\n",
      "7809/7809 [==============================] - 1s 125us/sample - loss: 1.8258 - acc: 0.5818 - val_loss: 2.1786 - val_acc: 0.5092\n",
      "Epoch 29/100\n",
      "7809/7809 [==============================] - 1s 126us/sample - loss: 1.7999 - acc: 0.5836 - val_loss: 2.2303 - val_acc: 0.5092\n",
      "Epoch 30/100\n",
      "7809/7809 [==============================] - 1s 124us/sample - loss: 1.7645 - acc: 0.5919 - val_loss: 2.1905 - val_acc: 0.5092\n",
      "Epoch 31/100\n",
      "7809/7809 [==============================] - 1s 128us/sample - loss: 1.7342 - acc: 0.5942 - val_loss: 2.1409 - val_acc: 0.5092\n",
      "Epoch 32/100\n",
      "7809/7809 [==============================] - 1s 122us/sample - loss: 1.6957 - acc: 0.6060 - val_loss: 2.1266 - val_acc: 0.5196\n",
      "Epoch 33/100\n",
      "7809/7809 [==============================] - 1s 122us/sample - loss: 1.6489 - acc: 0.6148 - val_loss: 2.0941 - val_acc: 0.5242\n",
      "Epoch 34/100\n",
      "7809/7809 [==============================] - 1s 122us/sample - loss: 1.6010 - acc: 0.6266 - val_loss: 2.1069 - val_acc: 0.5219\n",
      "Epoch 35/100\n",
      "7809/7809 [==============================] - 1s 124us/sample - loss: 1.6004 - acc: 0.6272 - val_loss: 2.0582 - val_acc: 0.5369\n",
      "Epoch 36/100\n",
      "7809/7809 [==============================] - 1s 121us/sample - loss: 1.5816 - acc: 0.6303 - val_loss: 2.0374 - val_acc: 0.5346\n",
      "Epoch 37/100\n",
      "7809/7809 [==============================] - 1s 123us/sample - loss: 1.5237 - acc: 0.6446 - val_loss: 2.0477 - val_acc: 0.5403\n",
      "Epoch 38/100\n",
      "7809/7809 [==============================] - 1s 123us/sample - loss: 1.5099 - acc: 0.6446 - val_loss: 2.0149 - val_acc: 0.5461\n",
      "Epoch 39/100\n",
      "7809/7809 [==============================] - 1s 121us/sample - loss: 1.4703 - acc: 0.6557 - val_loss: 1.9934 - val_acc: 0.5518\n",
      "Epoch 40/100\n",
      "7809/7809 [==============================] - 1s 123us/sample - loss: 1.4462 - acc: 0.6598 - val_loss: 1.9929 - val_acc: 0.5472\n",
      "Epoch 41/100\n",
      "7809/7809 [==============================] - 1s 122us/sample - loss: 1.4022 - acc: 0.6681 - val_loss: 1.9992 - val_acc: 0.5530\n",
      "Epoch 42/100\n",
      "7809/7809 [==============================] - 1s 123us/sample - loss: 1.4169 - acc: 0.6638 - val_loss: 1.9718 - val_acc: 0.5576\n",
      "Epoch 43/100\n",
      "7809/7809 [==============================] - 1s 122us/sample - loss: 1.3822 - acc: 0.6723 - val_loss: 1.9988 - val_acc: 0.5438\n",
      "Epoch 44/100\n",
      "7809/7809 [==============================] - 1s 122us/sample - loss: 1.3480 - acc: 0.6827 - val_loss: 1.9936 - val_acc: 0.5541\n",
      "Epoch 45/100\n",
      "7809/7809 [==============================] - 1s 122us/sample - loss: 1.3352 - acc: 0.6846 - val_loss: 1.9588 - val_acc: 0.5565\n",
      "Epoch 46/100\n",
      "7809/7809 [==============================] - 1s 124us/sample - loss: 1.3056 - acc: 0.6856 - val_loss: 1.9458 - val_acc: 0.5611\n",
      "Epoch 47/100\n",
      "7809/7809 [==============================] - 1s 125us/sample - loss: 1.2712 - acc: 0.6939 - val_loss: 1.9518 - val_acc: 0.5703\n",
      "Epoch 48/100\n",
      "7809/7809 [==============================] - 1s 127us/sample - loss: 1.2572 - acc: 0.6994 - val_loss: 1.9268 - val_acc: 0.5541\n",
      "Epoch 49/100\n",
      "7809/7809 [==============================] - 1s 121us/sample - loss: 1.2226 - acc: 0.7087 - val_loss: 1.9431 - val_acc: 0.5634\n",
      "Epoch 50/100\n",
      "7809/7809 [==============================] - 1s 122us/sample - loss: 1.2146 - acc: 0.7078 - val_loss: 1.9442 - val_acc: 0.5622\n",
      "Epoch 51/100\n",
      "7809/7809 [==============================] - 1s 124us/sample - loss: 1.1834 - acc: 0.7117 - val_loss: 1.9075 - val_acc: 0.5703\n",
      "Epoch 52/100\n",
      "7809/7809 [==============================] - 1s 122us/sample - loss: 1.1751 - acc: 0.7155 - val_loss: 1.8944 - val_acc: 0.5737\n",
      "Epoch 53/100\n",
      "7809/7809 [==============================] - 1s 122us/sample - loss: 1.1432 - acc: 0.7231 - val_loss: 1.9197 - val_acc: 0.5622\n",
      "Epoch 54/100\n",
      "7809/7809 [==============================] - 1s 122us/sample - loss: 1.1294 - acc: 0.7224 - val_loss: 1.8897 - val_acc: 0.5806\n",
      "Epoch 55/100\n",
      "7809/7809 [==============================] - 1s 122us/sample - loss: 1.1144 - acc: 0.7297 - val_loss: 1.9180 - val_acc: 0.5565\n",
      "Epoch 56/100\n",
      "7809/7809 [==============================] - 1s 125us/sample - loss: 1.1064 - acc: 0.7295 - val_loss: 1.9100 - val_acc: 0.5714\n",
      "Epoch 57/100\n",
      "7809/7809 [==============================] - 1s 123us/sample - loss: 1.0636 - acc: 0.7375 - val_loss: 1.9618 - val_acc: 0.5530\n",
      "Epoch 58/100\n",
      "7809/7809 [==============================] - 1s 121us/sample - loss: 1.0347 - acc: 0.7507 - val_loss: 1.9083 - val_acc: 0.5588\n",
      "Epoch 59/100\n",
      "7809/7809 [==============================] - 1s 121us/sample - loss: 1.0401 - acc: 0.7431 - val_loss: 1.9184 - val_acc: 0.5657\n",
      "Epoch 60/100\n",
      "7809/7809 [==============================] - 1s 127us/sample - loss: 1.0093 - acc: 0.7493 - val_loss: 1.8897 - val_acc: 0.5829\n",
      "Epoch 61/100\n",
      "7809/7809 [==============================] - 1s 126us/sample - loss: 0.9949 - acc: 0.7558 - val_loss: 1.8633 - val_acc: 0.5749\n",
      "Epoch 62/100\n",
      "7809/7809 [==============================] - 1s 122us/sample - loss: 0.9751 - acc: 0.7618 - val_loss: 1.8899 - val_acc: 0.5783\n",
      "Epoch 63/100\n",
      "7809/7809 [==============================] - 1s 122us/sample - loss: 0.9680 - acc: 0.7657 - val_loss: 1.8374 - val_acc: 0.5876\n",
      "Epoch 64/100\n",
      "7809/7809 [==============================] - 1s 122us/sample - loss: 0.9138 - acc: 0.7796 - val_loss: 1.9304 - val_acc: 0.5703\n",
      "Epoch 65/100\n",
      "7809/7809 [==============================] - 1s 122us/sample - loss: 0.9028 - acc: 0.7777 - val_loss: 1.8736 - val_acc: 0.5818\n",
      "Epoch 66/100\n",
      "7809/7809 [==============================] - 1s 121us/sample - loss: 0.8970 - acc: 0.7799 - val_loss: 1.9552 - val_acc: 0.5691\n",
      "Epoch 67/100\n",
      "7809/7809 [==============================] - 1s 122us/sample - loss: 0.8993 - acc: 0.7803 - val_loss: 1.8566 - val_acc: 0.5783\n",
      "Epoch 68/100\n",
      "7809/7809 [==============================] - 1s 121us/sample - loss: 0.8600 - acc: 0.7922 - val_loss: 1.8898 - val_acc: 0.5818\n",
      "Epoch 69/100\n",
      "7809/7809 [==============================] - 1s 124us/sample - loss: 0.8561 - acc: 0.7888 - val_loss: 1.8554 - val_acc: 0.5899\n",
      "Epoch 70/100\n",
      "7809/7809 [==============================] - 1s 121us/sample - loss: 0.8166 - acc: 0.8006 - val_loss: 1.9001 - val_acc: 0.5864\n",
      "Epoch 71/100\n",
      "7809/7809 [==============================] - 1s 123us/sample - loss: 0.8233 - acc: 0.7984 - val_loss: 1.8490 - val_acc: 0.5933\n",
      "Epoch 72/100\n",
      "7809/7809 [==============================] - 1s 120us/sample - loss: 0.7944 - acc: 0.8080 - val_loss: 1.8921 - val_acc: 0.5806\n",
      "Epoch 73/100\n",
      "7809/7809 [==============================] - 1s 122us/sample - loss: 0.7781 - acc: 0.8133 - val_loss: 1.9002 - val_acc: 0.5783\n",
      "Epoch 74/100\n",
      "7809/7809 [==============================] - 1s 124us/sample - loss: 0.7431 - acc: 0.8235 - val_loss: 1.8625 - val_acc: 0.5922\n",
      "Epoch 75/100\n",
      "7809/7809 [==============================] - 1s 121us/sample - loss: 0.7338 - acc: 0.8229 - val_loss: 1.8835 - val_acc: 0.5887\n",
      "Epoch 76/100\n",
      "7809/7809 [==============================] - 1s 122us/sample - loss: 0.7234 - acc: 0.8221 - val_loss: 1.9230 - val_acc: 0.5841\n",
      "Epoch 77/100\n",
      "7809/7809 [==============================] - 1s 122us/sample - loss: 0.7444 - acc: 0.8171 - val_loss: 1.8808 - val_acc: 0.5853\n",
      "Epoch 78/100\n",
      "7809/7809 [==============================] - 1s 121us/sample - loss: 0.7178 - acc: 0.8255 - val_loss: 1.8675 - val_acc: 0.5933\n",
      "Epoch 79/100\n",
      "7809/7809 [==============================] - 1s 121us/sample - loss: 0.6733 - acc: 0.8369 - val_loss: 1.8662 - val_acc: 0.5945\n",
      "Epoch 80/100\n",
      "7809/7809 [==============================] - 1s 122us/sample - loss: 0.6642 - acc: 0.8420 - val_loss: 1.8997 - val_acc: 0.5991\n",
      "Epoch 81/100\n",
      "7809/7809 [==============================] - 1s 123us/sample - loss: 0.6615 - acc: 0.8371 - val_loss: 1.8495 - val_acc: 0.5749\n",
      "Epoch 82/100\n",
      "7809/7809 [==============================] - 1s 123us/sample - loss: 0.6102 - acc: 0.8582 - val_loss: 1.8700 - val_acc: 0.5956\n",
      "Epoch 83/100\n",
      "7809/7809 [==============================] - 1s 125us/sample - loss: 0.5906 - acc: 0.8662 - val_loss: 1.9104 - val_acc: 0.5979\n",
      "Epoch 84/100\n",
      "7809/7809 [==============================] - 1s 121us/sample - loss: 0.5959 - acc: 0.8585 - val_loss: 1.9346 - val_acc: 0.5864\n",
      "Epoch 85/100\n",
      "7809/7809 [==============================] - 1s 122us/sample - loss: 0.6304 - acc: 0.8447 - val_loss: 1.8894 - val_acc: 0.5853\n",
      "Epoch 86/100\n",
      "7809/7809 [==============================] - 1s 123us/sample - loss: 0.5874 - acc: 0.8616 - val_loss: 1.9079 - val_acc: 0.5910\n",
      "Epoch 87/100\n",
      "7809/7809 [==============================] - 1s 122us/sample - loss: 0.5601 - acc: 0.8666 - val_loss: 1.9317 - val_acc: 0.5887\n",
      "Epoch 88/100\n",
      "7809/7809 [==============================] - 1s 125us/sample - loss: 0.5512 - acc: 0.8717 - val_loss: 1.8907 - val_acc: 0.5979\n",
      "Epoch 89/100\n",
      "7809/7809 [==============================] - 1s 122us/sample - loss: 0.5322 - acc: 0.8746 - val_loss: 1.9045 - val_acc: 0.6048\n",
      "Epoch 90/100\n",
      "7809/7809 [==============================] - 1s 121us/sample - loss: 0.5207 - acc: 0.8774 - val_loss: 1.8904 - val_acc: 0.5979\n",
      "Epoch 91/100\n",
      "7809/7809 [==============================] - 1s 122us/sample - loss: 0.5002 - acc: 0.8826 - val_loss: 1.9411 - val_acc: 0.6048\n",
      "Epoch 92/100\n",
      "7809/7809 [==============================] - 1s 123us/sample - loss: 0.4851 - acc: 0.8890 - val_loss: 1.9590 - val_acc: 0.5979\n",
      "Epoch 93/100\n",
      "7809/7809 [==============================] - 1s 125us/sample - loss: 0.4715 - acc: 0.8942 - val_loss: 1.9283 - val_acc: 0.6048\n",
      "Epoch 94/100\n",
      "7809/7809 [==============================] - 1s 122us/sample - loss: 0.4948 - acc: 0.8810 - val_loss: 1.9406 - val_acc: 0.5910\n",
      "Epoch 95/100\n",
      "7809/7809 [==============================] - 1s 121us/sample - loss: 0.4519 - acc: 0.8968 - val_loss: 1.9340 - val_acc: 0.6014\n",
      "Epoch 96/100\n",
      "7809/7809 [==============================] - 1s 121us/sample - loss: 0.4401 - acc: 0.8993 - val_loss: 1.9415 - val_acc: 0.5968\n",
      "Epoch 97/100\n",
      "7809/7809 [==============================] - 1s 122us/sample - loss: 0.4027 - acc: 0.9143 - val_loss: 1.9653 - val_acc: 0.5956\n",
      "Epoch 98/100\n",
      "7809/7809 [==============================] - 1s 123us/sample - loss: 0.3980 - acc: 0.9139 - val_loss: 1.9754 - val_acc: 0.6083\n",
      "Epoch 99/100\n",
      "7809/7809 [==============================] - 1s 121us/sample - loss: 0.4046 - acc: 0.9102 - val_loss: 1.9722 - val_acc: 0.6002\n",
      "Epoch 100/100\n",
      "7809/7809 [==============================] - 1s 121us/sample - loss: 0.3821 - acc: 0.9177 - val_loss: 1.9712 - val_acc: 0.5968\n"
     ]
    }
   ],
   "source": [
    "from keras import optimizers\n",
    "from keras.optimizers import Adam\n",
    "opt = keras.optimizers.Adam(learning_rate=0.0001)\n",
    "model_base.compile(loss=tf.keras.losses.CategoricalCrossentropy(),\n",
    "              optimizer=opt,\n",
    "              metrics = ['accuracy'])\n",
    "\n",
    "history = model_base.fit(X, dummy_y, epochs=100, validation_split=0.1,batch_size=200)"
   ]
  },
  {
   "cell_type": "code",
   "execution_count": 77,
   "metadata": {
    "colab": {
     "base_uri": "https://localhost:8080/",
     "height": 300
    },
    "colab_type": "code",
    "id": "zrqkZcVdMw9W",
    "outputId": "f1f7a19b-8e6e-4596-b498-ca2d7e59abc8"
   },
   "outputs": [
    {
     "data": {
      "text/plain": [
       "<matplotlib.legend.Legend at 0x7fe3ac83fe80>"
      ]
     },
     "execution_count": 77,
     "metadata": {
      "tags": []
     },
     "output_type": "execute_result"
    },
    {
     "data": {
      "image/png": "[encoded data removed]",
      "text/plain": [
       "<Figure size 432x288 with 1 Axes>"
      ]
     },
     "metadata": {
      "tags": []
     },
     "output_type": "display_data"
    }
   ],
   "source": [
    "####evaluate model\n",
    "plt.plot(history.history['acc'], label='accuracy')\n",
    "plt.plot(history.history['val_acc'], label = 'val_accuracy')\n",
    "plt.xlabel('Epoch')\n",
    "plt.ylabel('Accuracy')\n",
    "plt.ylim([0, 1])\n",
    "plt.legend(loc='lower right')"
   ]
  },
  {
   "cell_type": "markdown",
   "metadata": {
    "colab_type": "text",
    "id": "3_0XF46ckWmP"
   },
   "source": [
    "Model loss and accuracy:\n",
    "  On training set:\n",
    "  loss: 0.3821 - acc: 0.9177 \n",
    "  On Validation set:\n",
    "  val_loss: 1.9712 - val_acc: 0.5968"
   ]
  },
  {
   "cell_type": "code",
   "execution_count": 78,
   "metadata": {
    "colab": {
     "base_uri": "https://localhost:8080/",
     "height": 493
    },
    "colab_type": "code",
    "id": "6pDsNCI9T861",
    "outputId": "689ebc5b-3bb3-401f-8a3d-7c48d3631070"
   },
   "outputs": [
    {
     "name": "stdout",
     "output_type": "stream",
     "text": [
      "Model: \"sequential_26\"\n",
      "_________________________________________________________________\n",
      "Layer (type)                 Output Shape              Param #   \n",
      "=================================================================\n",
      "conv2d_54 (Conv2D)           (None, 64, 64, 32)        2432      \n",
      "_________________________________________________________________\n",
      "batch_normalization_22 (Batc (None, 64, 64, 32)        128       \n",
      "_________________________________________________________________\n",
      "max_pooling2d_52 (MaxPooling (None, 16, 16, 32)        0         \n",
      "_________________________________________________________________\n",
      "conv2d_55 (Conv2D)           (None, 16, 16, 64)        51264     \n",
      "_________________________________________________________________\n",
      "batch_normalization_23 (Batc (None, 16, 16, 64)        256       \n",
      "_________________________________________________________________\n",
      "max_pooling2d_53 (MaxPooling (None, 4, 4, 64)          0         \n",
      "_________________________________________________________________\n",
      "flatten_24 (Flatten)         (None, 1024)              0         \n",
      "_________________________________________________________________\n",
      "dense_72 (Dense)             (None, 1024)              1049600   \n",
      "_________________________________________________________________\n",
      "dense_73 (Dense)             (None, 84)                86100     \n",
      "_________________________________________________________________\n",
      "dense_74 (Dense)             (None, 101)               8585      \n",
      "=================================================================\n",
      "Total params: 1,198,365\n",
      "Trainable params: 1,198,173\n",
      "Non-trainable params: 192\n",
      "_________________________________________________________________\n"
     ]
    }
   ],
   "source": [
    "####Lenet5- improved\n",
    "\n",
    "model = models.Sequential()\n",
    "model.add(layers.Conv2D(32, (5, 5), activation='relu', input_shape=(64, 64, 3), padding='same'))\n",
    "model.add(layers.BatchNormalization())\n",
    "model.add(layers.MaxPooling2D((4, 4),padding='same',strides=4))\n",
    "\n",
    "model.add(layers.Conv2D(64, (5, 5), activation='relu', padding='same'))\n",
    "model.add(layers.BatchNormalization())\n",
    "model.add(layers.MaxPooling2D((4, 4), padding='same',strides=4))\n",
    "\n",
    "model.add(layers.Flatten())\n",
    "model.add(Dense(1024, activation='relu',kernel_regularizer=tf.keras.regularizers.l2(0.001)))\n",
    "model.add(Dense(84, activation='relu',kernel_regularizer=tf.keras.regularizers.l2(0.001)))\n",
    "model.add(Dense(101, activation='softmax'))\n",
    "model.summary()\n"
   ]
  },
  {
   "cell_type": "code",
   "execution_count": 80,
   "metadata": {
    "colab": {
     "base_uri": "https://localhost:8080/",
     "height": 1000
    },
    "colab_type": "code",
    "id": "kLsCu_sze2xL",
    "outputId": "5f0f9856-4b38-47d1-d348-99157cb2f91f"
   },
   "outputs": [
    {
     "name": "stdout",
     "output_type": "stream",
     "text": [
      "Train on 7809 samples, validate on 868 samples\n",
      "Epoch 1/100\n",
      "7809/7809 [==============================] - 3s 375us/sample - loss: 5.0163 - acc: 0.2310 - val_loss: 5.6948 - val_acc: 0.1025\n",
      "Epoch 2/100\n",
      "7809/7809 [==============================] - 2s 199us/sample - loss: 4.2704 - acc: 0.3495 - val_loss: 5.6019 - val_acc: 0.0668\n",
      "Epoch 3/100\n",
      "7809/7809 [==============================] - 2s 195us/sample - loss: 3.8416 - acc: 0.4203 - val_loss: 5.3621 - val_acc: 0.2281\n",
      "Epoch 4/100\n",
      "7809/7809 [==============================] - 2s 196us/sample - loss: 3.4633 - acc: 0.4888 - val_loss: 4.9103 - val_acc: 0.3502\n",
      "Epoch 5/100\n",
      "7809/7809 [==============================] - 2s 200us/sample - loss: 3.1297 - acc: 0.5435 - val_loss: 4.3178 - val_acc: 0.4182\n",
      "Epoch 6/100\n",
      "7809/7809 [==============================] - 2s 199us/sample - loss: 2.8310 - acc: 0.5978 - val_loss: 3.7933 - val_acc: 0.4505\n",
      "Epoch 7/100\n",
      "7809/7809 [==============================] - 2s 198us/sample - loss: 2.5721 - acc: 0.6621 - val_loss: 3.4741 - val_acc: 0.4827\n",
      "Epoch 8/100\n",
      "7809/7809 [==============================] - 2s 199us/sample - loss: 2.3705 - acc: 0.6978 - val_loss: 3.2119 - val_acc: 0.5357\n",
      "Epoch 9/100\n",
      "7809/7809 [==============================] - 2s 198us/sample - loss: 2.1474 - acc: 0.7512 - val_loss: 3.1086 - val_acc: 0.5415\n",
      "Epoch 10/100\n",
      "7809/7809 [==============================] - 2s 204us/sample - loss: 1.9617 - acc: 0.7987 - val_loss: 3.0616 - val_acc: 0.5461\n",
      "Epoch 11/100\n",
      "7809/7809 [==============================] - 2s 197us/sample - loss: 1.8150 - acc: 0.8319 - val_loss: 2.9728 - val_acc: 0.5657\n",
      "Epoch 12/100\n",
      "7809/7809 [==============================] - 2s 195us/sample - loss: 1.6833 - acc: 0.8626 - val_loss: 2.9913 - val_acc: 0.5588\n",
      "Epoch 13/100\n",
      "7809/7809 [==============================] - 2s 199us/sample - loss: 1.5521 - acc: 0.8970 - val_loss: 2.9609 - val_acc: 0.5657\n",
      "Epoch 14/100\n",
      "7809/7809 [==============================] - 2s 198us/sample - loss: 1.4494 - acc: 0.9257 - val_loss: 2.9984 - val_acc: 0.5668\n",
      "Epoch 15/100\n",
      "7809/7809 [==============================] - 2s 196us/sample - loss: 1.3638 - acc: 0.9467 - val_loss: 2.9411 - val_acc: 0.5668\n",
      "Epoch 16/100\n",
      "7809/7809 [==============================] - 2s 197us/sample - loss: 1.2849 - acc: 0.9641 - val_loss: 2.9460 - val_acc: 0.5795\n",
      "Epoch 17/100\n",
      "7809/7809 [==============================] - 2s 199us/sample - loss: 1.2244 - acc: 0.9748 - val_loss: 2.9491 - val_acc: 0.5876\n",
      "Epoch 18/100\n",
      "7809/7809 [==============================] - 2s 199us/sample - loss: 1.1662 - acc: 0.9860 - val_loss: 2.9682 - val_acc: 0.5783\n",
      "Epoch 19/100\n",
      "7809/7809 [==============================] - 2s 200us/sample - loss: 1.1248 - acc: 0.9908 - val_loss: 2.9574 - val_acc: 0.5910\n",
      "Epoch 20/100\n",
      "7809/7809 [==============================] - 2s 201us/sample - loss: 1.0926 - acc: 0.9956 - val_loss: 2.9590 - val_acc: 0.5876\n",
      "Epoch 21/100\n",
      "7809/7809 [==============================] - 2s 203us/sample - loss: 1.0637 - acc: 0.9977 - val_loss: 2.9548 - val_acc: 0.5979\n",
      "Epoch 22/100\n",
      "7809/7809 [==============================] - 2s 198us/sample - loss: 1.0357 - acc: 0.9985 - val_loss: 2.9540 - val_acc: 0.5841\n",
      "Epoch 23/100\n",
      "7809/7809 [==============================] - 2s 199us/sample - loss: 1.0186 - acc: 0.9990 - val_loss: 2.9600 - val_acc: 0.5979\n",
      "Epoch 24/100\n",
      "7809/7809 [==============================] - 2s 199us/sample - loss: 0.9994 - acc: 0.9992 - val_loss: 2.9625 - val_acc: 0.6002\n",
      "Epoch 25/100\n",
      "7809/7809 [==============================] - 2s 200us/sample - loss: 0.9816 - acc: 0.9994 - val_loss: 2.9772 - val_acc: 0.5968\n",
      "Epoch 26/100\n",
      "7809/7809 [==============================] - 2s 200us/sample - loss: 0.9640 - acc: 0.9995 - val_loss: 2.9551 - val_acc: 0.5991\n",
      "Epoch 27/100\n",
      "7809/7809 [==============================] - 2s 198us/sample - loss: 0.9485 - acc: 0.9996 - val_loss: 2.9688 - val_acc: 0.6048\n",
      "Epoch 28/100\n",
      "7809/7809 [==============================] - 2s 206us/sample - loss: 0.9366 - acc: 0.9994 - val_loss: 2.9615 - val_acc: 0.5979\n",
      "Epoch 29/100\n",
      "7809/7809 [==============================] - 2s 203us/sample - loss: 0.9224 - acc: 0.9995 - val_loss: 2.9422 - val_acc: 0.6106\n",
      "Epoch 30/100\n",
      "7809/7809 [==============================] - 2s 197us/sample - loss: 0.9051 - acc: 0.9996 - val_loss: 2.9403 - val_acc: 0.6048\n",
      "Epoch 31/100\n",
      "7809/7809 [==============================] - 2s 197us/sample - loss: 0.8906 - acc: 0.9996 - val_loss: 2.9344 - val_acc: 0.6071\n",
      "Epoch 32/100\n",
      "7809/7809 [==============================] - 2s 197us/sample - loss: 0.8770 - acc: 0.9992 - val_loss: 2.9739 - val_acc: 0.6048\n",
      "Epoch 33/100\n",
      "7809/7809 [==============================] - 2s 196us/sample - loss: 0.8642 - acc: 0.9996 - val_loss: 2.9238 - val_acc: 0.5933\n",
      "Epoch 34/100\n",
      "7809/7809 [==============================] - 2s 196us/sample - loss: 0.8590 - acc: 0.9982 - val_loss: 2.9000 - val_acc: 0.6002\n",
      "Epoch 35/100\n",
      "7809/7809 [==============================] - 2s 198us/sample - loss: 0.8329 - acc: 0.9994 - val_loss: 2.8915 - val_acc: 0.6094\n",
      "Epoch 36/100\n",
      "7809/7809 [==============================] - 2s 198us/sample - loss: 0.8198 - acc: 0.9995 - val_loss: 2.8697 - val_acc: 0.6002\n",
      "Epoch 37/100\n",
      "7809/7809 [==============================] - 2s 197us/sample - loss: 0.8021 - acc: 0.9995 - val_loss: 2.8524 - val_acc: 0.6037\n",
      "Epoch 38/100\n",
      "7809/7809 [==============================] - 2s 196us/sample - loss: 0.7879 - acc: 0.9994 - val_loss: 2.8494 - val_acc: 0.6014\n",
      "Epoch 39/100\n",
      "7809/7809 [==============================] - 2s 198us/sample - loss: 0.7722 - acc: 0.9996 - val_loss: 2.8186 - val_acc: 0.6060\n",
      "Epoch 40/100\n",
      "7809/7809 [==============================] - 2s 197us/sample - loss: 0.7566 - acc: 0.9995 - val_loss: 2.8009 - val_acc: 0.6002\n",
      "Epoch 41/100\n",
      "7809/7809 [==============================] - 2s 196us/sample - loss: 0.7407 - acc: 0.9995 - val_loss: 2.8020 - val_acc: 0.6025\n",
      "Epoch 42/100\n",
      "7809/7809 [==============================] - 2s 198us/sample - loss: 0.7258 - acc: 0.9995 - val_loss: 2.7704 - val_acc: 0.6025\n",
      "Epoch 43/100\n",
      "7809/7809 [==============================] - 2s 203us/sample - loss: 0.7094 - acc: 0.9995 - val_loss: 2.7443 - val_acc: 0.6083\n",
      "Epoch 44/100\n",
      "7809/7809 [==============================] - 2s 205us/sample - loss: 0.6943 - acc: 0.9994 - val_loss: 2.7333 - val_acc: 0.6060\n",
      "Epoch 45/100\n",
      "7809/7809 [==============================] - 2s 205us/sample - loss: 0.6779 - acc: 0.9994 - val_loss: 2.6957 - val_acc: 0.6071\n",
      "Epoch 46/100\n",
      "7809/7809 [==============================] - 2s 202us/sample - loss: 0.6618 - acc: 0.9994 - val_loss: 2.7303 - val_acc: 0.6141\n",
      "Epoch 47/100\n",
      "7809/7809 [==============================] - 2s 202us/sample - loss: 0.6482 - acc: 0.9994 - val_loss: 2.6959 - val_acc: 0.6094\n",
      "Epoch 48/100\n",
      "7809/7809 [==============================] - 2s 209us/sample - loss: 0.6290 - acc: 0.9996 - val_loss: 2.6406 - val_acc: 0.6014\n",
      "Epoch 49/100\n",
      "7809/7809 [==============================] - 2s 202us/sample - loss: 0.6135 - acc: 0.9994 - val_loss: 2.7423 - val_acc: 0.5945\n",
      "Epoch 50/100\n",
      "7809/7809 [==============================] - 2s 208us/sample - loss: 0.6652 - acc: 0.9909 - val_loss: 2.7552 - val_acc: 0.6002\n",
      "Epoch 51/100\n",
      "7809/7809 [==============================] - 2s 210us/sample - loss: 0.6056 - acc: 0.9991 - val_loss: 2.6075 - val_acc: 0.6106\n",
      "Epoch 52/100\n",
      "7809/7809 [==============================] - 2s 212us/sample - loss: 0.5804 - acc: 0.9995 - val_loss: 2.5863 - val_acc: 0.6071\n",
      "Epoch 53/100\n",
      "7809/7809 [==============================] - 2s 211us/sample - loss: 0.5635 - acc: 0.9994 - val_loss: 2.5469 - val_acc: 0.6164\n",
      "Epoch 54/100\n",
      "7809/7809 [==============================] - 2s 214us/sample - loss: 0.5472 - acc: 0.9995 - val_loss: 2.5400 - val_acc: 0.6152\n",
      "Epoch 55/100\n",
      "7809/7809 [==============================] - 2s 210us/sample - loss: 0.5335 - acc: 0.9995 - val_loss: 2.5176 - val_acc: 0.6106\n",
      "Epoch 56/100\n",
      "7809/7809 [==============================] - 2s 211us/sample - loss: 0.5173 - acc: 0.9996 - val_loss: 2.5388 - val_acc: 0.6175\n",
      "Epoch 57/100\n",
      "7809/7809 [==============================] - 2s 213us/sample - loss: 0.5027 - acc: 0.9996 - val_loss: 2.4979 - val_acc: 0.6175\n",
      "Epoch 58/100\n",
      "7809/7809 [==============================] - 2s 214us/sample - loss: 0.4886 - acc: 0.9996 - val_loss: 2.5109 - val_acc: 0.6152\n",
      "Epoch 59/100\n",
      "7809/7809 [==============================] - 2s 208us/sample - loss: 0.4876 - acc: 0.9988 - val_loss: 2.4727 - val_acc: 0.6152\n",
      "Epoch 60/100\n",
      "7809/7809 [==============================] - 2s 202us/sample - loss: 0.4657 - acc: 0.9995 - val_loss: 2.4575 - val_acc: 0.6244\n",
      "Epoch 61/100\n",
      "7809/7809 [==============================] - 2s 204us/sample - loss: 0.4524 - acc: 0.9991 - val_loss: 2.4496 - val_acc: 0.6118\n",
      "Epoch 62/100\n",
      "7809/7809 [==============================] - 2s 206us/sample - loss: 0.4379 - acc: 0.9995 - val_loss: 2.4071 - val_acc: 0.6244\n",
      "Epoch 63/100\n",
      "7809/7809 [==============================] - 2s 206us/sample - loss: 0.4233 - acc: 0.9996 - val_loss: 2.3710 - val_acc: 0.6141\n",
      "Epoch 64/100\n",
      "7809/7809 [==============================] - 2s 210us/sample - loss: 0.4108 - acc: 0.9995 - val_loss: 2.3573 - val_acc: 0.6244\n",
      "Epoch 65/100\n",
      "7809/7809 [==============================] - 2s 204us/sample - loss: 0.3992 - acc: 0.9994 - val_loss: 2.3541 - val_acc: 0.6094\n",
      "Epoch 66/100\n",
      "7809/7809 [==============================] - 2s 210us/sample - loss: 0.3874 - acc: 0.9994 - val_loss: 2.3611 - val_acc: 0.6094\n",
      "Epoch 67/100\n",
      "7809/7809 [==============================] - 2s 204us/sample - loss: 0.3730 - acc: 0.9995 - val_loss: 2.3200 - val_acc: 0.6106\n",
      "Epoch 68/100\n",
      "7809/7809 [==============================] - 2s 207us/sample - loss: 0.3615 - acc: 0.9995 - val_loss: 2.3133 - val_acc: 0.6141\n",
      "Epoch 69/100\n",
      "7809/7809 [==============================] - 2s 207us/sample - loss: 0.3497 - acc: 0.9995 - val_loss: 2.3116 - val_acc: 0.6152\n",
      "Epoch 70/100\n",
      "7809/7809 [==============================] - 2s 207us/sample - loss: 0.3377 - acc: 0.9995 - val_loss: 2.2800 - val_acc: 0.6025\n",
      "Epoch 71/100\n",
      "7809/7809 [==============================] - 2s 210us/sample - loss: 0.3272 - acc: 0.9992 - val_loss: 2.2262 - val_acc: 0.6210\n",
      "Epoch 72/100\n",
      "7809/7809 [==============================] - 2s 214us/sample - loss: 0.3153 - acc: 0.9996 - val_loss: 2.2679 - val_acc: 0.6048\n",
      "Epoch 73/100\n",
      "7809/7809 [==============================] - 2s 213us/sample - loss: 0.3581 - acc: 0.9914 - val_loss: 2.6209 - val_acc: 0.5818\n",
      "Epoch 74/100\n",
      "7809/7809 [==============================] - 2s 210us/sample - loss: 0.4056 - acc: 0.9791 - val_loss: 2.6585 - val_acc: 0.5553\n",
      "Epoch 75/100\n",
      "7809/7809 [==============================] - 2s 210us/sample - loss: 0.3574 - acc: 0.9918 - val_loss: 2.3240 - val_acc: 0.6060\n",
      "Epoch 76/100\n",
      "7809/7809 [==============================] - 2s 208us/sample - loss: 0.3070 - acc: 0.9992 - val_loss: 2.2528 - val_acc: 0.6313\n",
      "Epoch 77/100\n",
      "7809/7809 [==============================] - 2s 209us/sample - loss: 0.2952 - acc: 0.9994 - val_loss: 2.2720 - val_acc: 0.6244\n",
      "Epoch 78/100\n",
      "7809/7809 [==============================] - 2s 207us/sample - loss: 0.2874 - acc: 0.9994 - val_loss: 2.2466 - val_acc: 0.6290\n",
      "Epoch 79/100\n",
      "7809/7809 [==============================] - 2s 206us/sample - loss: 0.2819 - acc: 0.9992 - val_loss: 2.2425 - val_acc: 0.6244\n",
      "Epoch 80/100\n",
      "7809/7809 [==============================] - 2s 206us/sample - loss: 0.2753 - acc: 0.9994 - val_loss: 2.1987 - val_acc: 0.6290\n",
      "Epoch 81/100\n",
      "7809/7809 [==============================] - 2s 209us/sample - loss: 0.2678 - acc: 0.9994 - val_loss: 2.1904 - val_acc: 0.6302\n",
      "Epoch 82/100\n",
      "7809/7809 [==============================] - 2s 205us/sample - loss: 0.2616 - acc: 0.9995 - val_loss: 2.1733 - val_acc: 0.6325\n",
      "Epoch 83/100\n",
      "7809/7809 [==============================] - 2s 208us/sample - loss: 0.2544 - acc: 0.9995 - val_loss: 2.1917 - val_acc: 0.6302\n",
      "Epoch 84/100\n",
      "7809/7809 [==============================] - 2s 209us/sample - loss: 0.2486 - acc: 0.9996 - val_loss: 2.1340 - val_acc: 0.6290\n",
      "Epoch 85/100\n",
      "7809/7809 [==============================] - 2s 215us/sample - loss: 0.2444 - acc: 0.9992 - val_loss: 2.1539 - val_acc: 0.6302\n",
      "Epoch 86/100\n",
      "7809/7809 [==============================] - 2s 210us/sample - loss: 0.2370 - acc: 0.9995 - val_loss: 2.1345 - val_acc: 0.6348\n",
      "Epoch 87/100\n",
      "7809/7809 [==============================] - 2s 204us/sample - loss: 0.2304 - acc: 0.9995 - val_loss: 2.1229 - val_acc: 0.6244\n",
      "Epoch 88/100\n",
      "7809/7809 [==============================] - 2s 201us/sample - loss: 0.2266 - acc: 0.9996 - val_loss: 2.1202 - val_acc: 0.6221\n",
      "Epoch 89/100\n",
      "7809/7809 [==============================] - 2s 204us/sample - loss: 0.2219 - acc: 0.9995 - val_loss: 2.1030 - val_acc: 0.6221\n",
      "Epoch 90/100\n",
      "7809/7809 [==============================] - 2s 204us/sample - loss: 0.2148 - acc: 0.9995 - val_loss: 2.1040 - val_acc: 0.6233\n",
      "Epoch 91/100\n",
      "7809/7809 [==============================] - 2s 206us/sample - loss: 0.2094 - acc: 0.9994 - val_loss: 2.0880 - val_acc: 0.6152\n",
      "Epoch 92/100\n",
      "7809/7809 [==============================] - 2s 207us/sample - loss: 0.2032 - acc: 0.9995 - val_loss: 2.0655 - val_acc: 0.6164\n",
      "Epoch 93/100\n",
      "7809/7809 [==============================] - 2s 205us/sample - loss: 0.1980 - acc: 0.9995 - val_loss: 2.0432 - val_acc: 0.6267\n",
      "Epoch 94/100\n",
      "7809/7809 [==============================] - 2s 209us/sample - loss: 0.1930 - acc: 0.9994 - val_loss: 2.0580 - val_acc: 0.6302\n",
      "Epoch 95/100\n",
      "7809/7809 [==============================] - 2s 210us/sample - loss: 0.1887 - acc: 0.9994 - val_loss: 2.0365 - val_acc: 0.6198\n",
      "Epoch 96/100\n",
      "7809/7809 [==============================] - 2s 206us/sample - loss: 0.1971 - acc: 0.9985 - val_loss: 2.0798 - val_acc: 0.6279\n",
      "Epoch 97/100\n",
      "7809/7809 [==============================] - 2s 199us/sample - loss: 0.1831 - acc: 0.9994 - val_loss: 2.0642 - val_acc: 0.6244\n",
      "Epoch 98/100\n",
      "7809/7809 [==============================] - 2s 204us/sample - loss: 0.1765 - acc: 0.9994 - val_loss: 2.0526 - val_acc: 0.6406\n",
      "Epoch 99/100\n",
      "7809/7809 [==============================] - 2s 202us/sample - loss: 0.1707 - acc: 0.9996 - val_loss: 2.0374 - val_acc: 0.6256\n",
      "Epoch 100/100\n",
      "7809/7809 [==============================] - 2s 200us/sample - loss: 0.1661 - acc: 0.9994 - val_loss: 2.0176 - val_acc: 0.6302\n"
     ]
    }
   ],
   "source": [
    "from keras import optimizers\n",
    "from keras.optimizers import Adam\n",
    "opt = keras.optimizers.Adam(learning_rate=0.0001)\n",
    "model.compile(loss=tf.keras.losses.CategoricalCrossentropy(),\n",
    "              optimizer=opt,\n",
    "              metrics = ['accuracy'])\n",
    "\n",
    "history = model.fit(X, dummy_y, epochs=100, validation_split=0.1, batch_size=100)"
   ]
  },
  {
   "cell_type": "code",
   "execution_count": 81,
   "metadata": {
    "colab": {
     "base_uri": "https://localhost:8080/",
     "height": 300
    },
    "colab_type": "code",
    "id": "PyiJgOjJk2oh",
    "outputId": "25b1748c-17e0-43bc-dac8-7e92633267a2"
   },
   "outputs": [
    {
     "data": {
      "text/plain": [
       "<matplotlib.legend.Legend at 0x7fe3ac5d57b8>"
      ]
     },
     "execution_count": 81,
     "metadata": {
      "tags": []
     },
     "output_type": "execute_result"
    },
    {
     "data": {
      "image/png": "[encoded data removed]",
      "text/plain": [
       "<Figure size 432x288 with 1 Axes>"
      ]
     },
     "metadata": {
      "tags": []
     },
     "output_type": "display_data"
    }
   ],
   "source": [
    "####evaluate model\n",
    "plt.plot(history.history['acc'], label='accuracy')\n",
    "plt.plot(history.history['val_acc'], label = 'val_accuracy')\n",
    "plt.xlabel('Epoch')\n",
    "plt.ylabel('Accuracy')\n",
    "plt.ylim([0, 1])\n",
    "plt.legend(loc='lower right')"
   ]
  },
  {
   "cell_type": "markdown",
   "metadata": {
    "colab_type": "text",
    "id": "l8WBxGTt536o"
   },
   "source": [
    "model loss and accuracy: \n",
    "On training set:loss: 0.1661 - acc: 0.9994 \n",
    "On validation set:\n",
    "val_loss: 2.0176 - val_acc: 0.6302"
   ]
  },
  {
   "cell_type": "code",
   "execution_count": 84,
   "metadata": {
    "colab": {
     "base_uri": "https://localhost:8080/",
     "height": 493
    },
    "colab_type": "code",
    "id": "JHY4XOE_kW73",
    "outputId": "e8ac6668-a611-47d7-c941-3d0ff22e7f37"
   },
   "outputs": [
    {
     "name": "stdout",
     "output_type": "stream",
     "text": [
      "Model: \"sequential_28\"\n",
      "_________________________________________________________________\n",
      "Layer (type)                 Output Shape              Param #   \n",
      "=================================================================\n",
      "conv2d_58 (Conv2D)           (None, 60, 60, 32)        2432      \n",
      "_________________________________________________________________\n",
      "batch_normalization_26 (Batc (None, 60, 60, 32)        128       \n",
      "_________________________________________________________________\n",
      "max_pooling2d_56 (MaxPooling (None, 15, 15, 32)        0         \n",
      "_________________________________________________________________\n",
      "conv2d_59 (Conv2D)           (None, 15, 15, 64)        51264     \n",
      "_________________________________________________________________\n",
      "batch_normalization_27 (Batc (None, 15, 15, 64)        256       \n",
      "_________________________________________________________________\n",
      "max_pooling2d_57 (MaxPooling (None, 4, 4, 64)          0         \n",
      "_________________________________________________________________\n",
      "flatten_26 (Flatten)         (None, 1024)              0         \n",
      "_________________________________________________________________\n",
      "dense_78 (Dense)             (None, 1024)              1049600   \n",
      "_________________________________________________________________\n",
      "dense_79 (Dense)             (None, 84)                86100     \n",
      "_________________________________________________________________\n",
      "dense_80 (Dense)             (None, 101)               8585      \n",
      "=================================================================\n",
      "Total params: 1,198,365\n",
      "Trainable params: 1,198,173\n",
      "Non-trainable params: 192\n",
      "_________________________________________________________________\n"
     ]
    }
   ],
   "source": [
    "####Lenet5-linear\n",
    "\n",
    "model_lin = models.Sequential()\n",
    "model_lin.add(layers.Conv2D(32, (5, 5), activation='linear', input_shape=(64, 64, 3), padding='valid'))\n",
    "model_lin.add(layers.BatchNormalization())\n",
    "model_lin.add(layers.MaxPooling2D((4, 4),padding='same'))\n",
    "\n",
    "model_lin.add(layers.Conv2D(64, (5, 5), activation='linear', padding='same'))\n",
    "model_lin.add(layers.BatchNormalization())\n",
    "model_lin.add(layers.MaxPooling2D((4, 4), padding='same'))\n",
    "\n",
    "model_lin.add(layers.Flatten())\n",
    "model_lin.add(Dense(1024, activation='linear',kernel_regularizer=tf.keras.regularizers.l2(0.001)))\n",
    "model_lin.add(Dense(84, activation='linear',kernel_regularizer=tf.keras.regularizers.l2(0.001)))\n",
    "model_lin.add(Dense(101, activation='softmax'))\n",
    "model_lin.summary()"
   ]
  },
  {
   "cell_type": "code",
   "execution_count": 85,
   "metadata": {
    "colab": {
     "base_uri": "https://localhost:8080/",
     "height": 1000
    },
    "colab_type": "code",
    "id": "EcWXG6H6lUm1",
    "outputId": "164ad407-e666-4a06-9236-a1b515ea1b80"
   },
   "outputs": [
    {
     "name": "stdout",
     "output_type": "stream",
     "text": [
      "Train on 7809 samples, validate on 868 samples\n",
      "Epoch 1/100\n",
      "7809/7809 [==============================] - 3s 381us/sample - loss: 5.1863 - acc: 0.2402 - val_loss: 5.5264 - val_acc: 0.1671\n",
      "Epoch 2/100\n",
      "7809/7809 [==============================] - 1s 160us/sample - loss: 4.2947 - acc: 0.3623 - val_loss: 5.3437 - val_acc: 0.2051\n",
      "Epoch 3/100\n",
      "7809/7809 [==============================] - 1s 162us/sample - loss: 3.9332 - acc: 0.4164 - val_loss: 5.1636 - val_acc: 0.2200\n",
      "Epoch 4/100\n",
      "7809/7809 [==============================] - 1s 159us/sample - loss: 3.6901 - acc: 0.4564 - val_loss: 4.9944 - val_acc: 0.2350\n",
      "Epoch 5/100\n",
      "7809/7809 [==============================] - 1s 161us/sample - loss: 3.4931 - acc: 0.4908 - val_loss: 4.8468 - val_acc: 0.2396\n",
      "Epoch 6/100\n",
      "7809/7809 [==============================] - 1s 161us/sample - loss: 3.3517 - acc: 0.5179 - val_loss: 4.6586 - val_acc: 0.2673\n",
      "Epoch 7/100\n",
      "7809/7809 [==============================] - 1s 162us/sample - loss: 3.1953 - acc: 0.5499 - val_loss: 4.4866 - val_acc: 0.3030\n",
      "Epoch 8/100\n",
      "7809/7809 [==============================] - 1s 162us/sample - loss: 3.0744 - acc: 0.5741 - val_loss: 4.2284 - val_acc: 0.3548\n",
      "Epoch 9/100\n",
      "7809/7809 [==============================] - 1s 162us/sample - loss: 2.9609 - acc: 0.5984 - val_loss: 4.0300 - val_acc: 0.4032\n",
      "Epoch 10/100\n",
      "7809/7809 [==============================] - 1s 161us/sample - loss: 2.8554 - acc: 0.6221 - val_loss: 3.8452 - val_acc: 0.4113\n",
      "Epoch 11/100\n",
      "7809/7809 [==============================] - 1s 161us/sample - loss: 2.7651 - acc: 0.6353 - val_loss: 3.6695 - val_acc: 0.4597\n",
      "Epoch 12/100\n",
      "7809/7809 [==============================] - 1s 161us/sample - loss: 2.6720 - acc: 0.6528 - val_loss: 3.4877 - val_acc: 0.4977\n",
      "Epoch 13/100\n",
      "7809/7809 [==============================] - 1s 161us/sample - loss: 2.5872 - acc: 0.6773 - val_loss: 3.3372 - val_acc: 0.5127\n",
      "Epoch 14/100\n",
      "7809/7809 [==============================] - 1s 160us/sample - loss: 2.5119 - acc: 0.6891 - val_loss: 3.2345 - val_acc: 0.5265\n",
      "Epoch 15/100\n",
      "7809/7809 [==============================] - 1s 163us/sample - loss: 2.4429 - acc: 0.7038 - val_loss: 3.1759 - val_acc: 0.5265\n",
      "Epoch 16/100\n",
      "7809/7809 [==============================] - 1s 163us/sample - loss: 2.3822 - acc: 0.7175 - val_loss: 3.0334 - val_acc: 0.5565\n",
      "Epoch 17/100\n",
      "7809/7809 [==============================] - 1s 165us/sample - loss: 2.3267 - acc: 0.7299 - val_loss: 2.9803 - val_acc: 0.5634\n",
      "Epoch 18/100\n",
      "7809/7809 [==============================] - 1s 162us/sample - loss: 2.2627 - acc: 0.7449 - val_loss: 2.9369 - val_acc: 0.5622\n",
      "Epoch 19/100\n",
      "7809/7809 [==============================] - 1s 165us/sample - loss: 2.1891 - acc: 0.7630 - val_loss: 2.9283 - val_acc: 0.5772\n",
      "Epoch 20/100\n",
      "7809/7809 [==============================] - 1s 159us/sample - loss: 2.1388 - acc: 0.7731 - val_loss: 2.8392 - val_acc: 0.5795\n",
      "Epoch 21/100\n",
      "7809/7809 [==============================] - 1s 160us/sample - loss: 2.1018 - acc: 0.7773 - val_loss: 2.8146 - val_acc: 0.5910\n",
      "Epoch 22/100\n",
      "7809/7809 [==============================] - 1s 160us/sample - loss: 2.0542 - acc: 0.7918 - val_loss: 2.7522 - val_acc: 0.5991\n",
      "Epoch 23/100\n",
      "7809/7809 [==============================] - 1s 160us/sample - loss: 1.9831 - acc: 0.8106 - val_loss: 2.7349 - val_acc: 0.6037\n",
      "Epoch 24/100\n",
      "7809/7809 [==============================] - 1s 158us/sample - loss: 1.9405 - acc: 0.8242 - val_loss: 2.7244 - val_acc: 0.6106\n",
      "Epoch 25/100\n",
      "7809/7809 [==============================] - 1s 159us/sample - loss: 1.9272 - acc: 0.8193 - val_loss: 2.7085 - val_acc: 0.6313\n",
      "Epoch 26/100\n",
      "7809/7809 [==============================] - 1s 156us/sample - loss: 1.8716 - acc: 0.8371 - val_loss: 2.6864 - val_acc: 0.6164\n",
      "Epoch 27/100\n",
      "7809/7809 [==============================] - 1s 158us/sample - loss: 1.8432 - acc: 0.8399 - val_loss: 2.7031 - val_acc: 0.6233\n",
      "Epoch 28/100\n",
      "7809/7809 [==============================] - 1s 157us/sample - loss: 1.7955 - acc: 0.8573 - val_loss: 2.6361 - val_acc: 0.6141\n",
      "Epoch 29/100\n",
      "7809/7809 [==============================] - 1s 159us/sample - loss: 1.7527 - acc: 0.8704 - val_loss: 2.6215 - val_acc: 0.6267\n",
      "Epoch 30/100\n",
      "7809/7809 [==============================] - 1s 157us/sample - loss: 1.7263 - acc: 0.8728 - val_loss: 2.6496 - val_acc: 0.6244\n",
      "Epoch 31/100\n",
      "7809/7809 [==============================] - 1s 158us/sample - loss: 1.7177 - acc: 0.8708 - val_loss: 2.5810 - val_acc: 0.6394\n",
      "Epoch 32/100\n",
      "7809/7809 [==============================] - 1s 158us/sample - loss: 1.6724 - acc: 0.8849 - val_loss: 2.5955 - val_acc: 0.6359\n",
      "Epoch 33/100\n",
      "7809/7809 [==============================] - 1s 161us/sample - loss: 1.6769 - acc: 0.8776 - val_loss: 2.5512 - val_acc: 0.6544\n",
      "Epoch 34/100\n",
      "7809/7809 [==============================] - 1s 159us/sample - loss: 1.6200 - acc: 0.8961 - val_loss: 2.5762 - val_acc: 0.6371\n",
      "Epoch 35/100\n",
      "7809/7809 [==============================] - 1s 160us/sample - loss: 1.5997 - acc: 0.9029 - val_loss: 2.5647 - val_acc: 0.6486\n",
      "Epoch 36/100\n",
      "7809/7809 [==============================] - 1s 162us/sample - loss: 1.5620 - acc: 0.9138 - val_loss: 2.5596 - val_acc: 0.6521\n",
      "Epoch 37/100\n",
      "7809/7809 [==============================] - 1s 161us/sample - loss: 1.5389 - acc: 0.9161 - val_loss: 2.5230 - val_acc: 0.6509\n",
      "Epoch 38/100\n",
      "7809/7809 [==============================] - 1s 159us/sample - loss: 1.5019 - acc: 0.9253 - val_loss: 2.5271 - val_acc: 0.6578\n",
      "Epoch 39/100\n",
      "7809/7809 [==============================] - 1s 159us/sample - loss: 1.4860 - acc: 0.9298 - val_loss: 2.5309 - val_acc: 0.6429\n",
      "Epoch 40/100\n",
      "7809/7809 [==============================] - 1s 158us/sample - loss: 1.4662 - acc: 0.9346 - val_loss: 2.5760 - val_acc: 0.6406\n",
      "Epoch 41/100\n",
      "7809/7809 [==============================] - 1s 160us/sample - loss: 1.4545 - acc: 0.9344 - val_loss: 2.4958 - val_acc: 0.6694\n",
      "Epoch 42/100\n",
      "7809/7809 [==============================] - 1s 157us/sample - loss: 1.4141 - acc: 0.9463 - val_loss: 2.4884 - val_acc: 0.6647\n",
      "Epoch 43/100\n",
      "7809/7809 [==============================] - 1s 161us/sample - loss: 1.3965 - acc: 0.9499 - val_loss: 2.5029 - val_acc: 0.6544\n",
      "Epoch 44/100\n",
      "7809/7809 [==============================] - 1s 158us/sample - loss: 1.3890 - acc: 0.9488 - val_loss: 2.5024 - val_acc: 0.6590\n",
      "Epoch 45/100\n",
      "7809/7809 [==============================] - 1s 159us/sample - loss: 1.3694 - acc: 0.9535 - val_loss: 2.4734 - val_acc: 0.6601\n",
      "Epoch 46/100\n",
      "7809/7809 [==============================] - 1s 157us/sample - loss: 1.3620 - acc: 0.9547 - val_loss: 2.4791 - val_acc: 0.6636\n",
      "Epoch 47/100\n",
      "7809/7809 [==============================] - 1s 165us/sample - loss: 1.3640 - acc: 0.9449 - val_loss: 2.4634 - val_acc: 0.6717\n",
      "Epoch 48/100\n",
      "7809/7809 [==============================] - 1s 161us/sample - loss: 1.3314 - acc: 0.9585 - val_loss: 2.4737 - val_acc: 0.6717\n",
      "Epoch 49/100\n",
      "7809/7809 [==============================] - 1s 159us/sample - loss: 1.2976 - acc: 0.9686 - val_loss: 2.4760 - val_acc: 0.6694\n",
      "Epoch 50/100\n",
      "7809/7809 [==============================] - 1s 158us/sample - loss: 1.2821 - acc: 0.9712 - val_loss: 2.4946 - val_acc: 0.6601\n",
      "Epoch 51/100\n",
      "7809/7809 [==============================] - 1s 160us/sample - loss: 1.2782 - acc: 0.9681 - val_loss: 2.4715 - val_acc: 0.6578\n",
      "Epoch 52/100\n",
      "7809/7809 [==============================] - 1s 157us/sample - loss: 1.2531 - acc: 0.9757 - val_loss: 2.4414 - val_acc: 0.6717\n",
      "Epoch 53/100\n",
      "7809/7809 [==============================] - 1s 158us/sample - loss: 1.2566 - acc: 0.9704 - val_loss: 2.4477 - val_acc: 0.6613\n",
      "Epoch 54/100\n",
      "7809/7809 [==============================] - 1s 158us/sample - loss: 1.2366 - acc: 0.9755 - val_loss: 2.4655 - val_acc: 0.6613\n",
      "Epoch 55/100\n",
      "7809/7809 [==============================] - 1s 156us/sample - loss: 1.2232 - acc: 0.9799 - val_loss: 2.4465 - val_acc: 0.6682\n",
      "Epoch 56/100\n",
      "7809/7809 [==============================] - 1s 157us/sample - loss: 1.1979 - acc: 0.9839 - val_loss: 2.4284 - val_acc: 0.6636\n",
      "Epoch 57/100\n",
      "7809/7809 [==============================] - 1s 159us/sample - loss: 1.1806 - acc: 0.9863 - val_loss: 2.4239 - val_acc: 0.6786\n",
      "Epoch 58/100\n",
      "7809/7809 [==============================] - 1s 159us/sample - loss: 1.1790 - acc: 0.9857 - val_loss: 2.4130 - val_acc: 0.6717\n",
      "Epoch 59/100\n",
      "7809/7809 [==============================] - 1s 161us/sample - loss: 1.1802 - acc: 0.9839 - val_loss: 2.4305 - val_acc: 0.6728\n",
      "Epoch 60/100\n",
      "7809/7809 [==============================] - 1s 158us/sample - loss: 1.1601 - acc: 0.9868 - val_loss: 2.4363 - val_acc: 0.6694\n",
      "Epoch 61/100\n",
      "7809/7809 [==============================] - 1s 158us/sample - loss: 1.1435 - acc: 0.9885 - val_loss: 2.4124 - val_acc: 0.6797\n",
      "Epoch 62/100\n",
      "7809/7809 [==============================] - 1s 159us/sample - loss: 1.1295 - acc: 0.9917 - val_loss: 2.4416 - val_acc: 0.6659\n",
      "Epoch 63/100\n",
      "7809/7809 [==============================] - 1s 156us/sample - loss: 1.1409 - acc: 0.9863 - val_loss: 2.4065 - val_acc: 0.6717\n",
      "Epoch 64/100\n",
      "7809/7809 [==============================] - 1s 159us/sample - loss: 1.1298 - acc: 0.9881 - val_loss: 2.4205 - val_acc: 0.6613\n",
      "Epoch 65/100\n",
      "7809/7809 [==============================] - 1s 158us/sample - loss: 1.1062 - acc: 0.9910 - val_loss: 2.3978 - val_acc: 0.6751\n",
      "Epoch 66/100\n",
      "7809/7809 [==============================] - 1s 158us/sample - loss: 1.1010 - acc: 0.9922 - val_loss: 2.4271 - val_acc: 0.6751\n",
      "Epoch 67/100\n",
      "7809/7809 [==============================] - 1s 159us/sample - loss: 1.0794 - acc: 0.9945 - val_loss: 2.3868 - val_acc: 0.6820\n",
      "Epoch 68/100\n",
      "7809/7809 [==============================] - 1s 158us/sample - loss: 1.0787 - acc: 0.9932 - val_loss: 2.3879 - val_acc: 0.6774\n",
      "Epoch 69/100\n",
      "7809/7809 [==============================] - 1s 157us/sample - loss: 1.0645 - acc: 0.9954 - val_loss: 2.3785 - val_acc: 0.6820\n",
      "Epoch 70/100\n",
      "7809/7809 [==============================] - 1s 160us/sample - loss: 1.0521 - acc: 0.9962 - val_loss: 2.3712 - val_acc: 0.6763\n",
      "Epoch 71/100\n",
      "7809/7809 [==============================] - 1s 159us/sample - loss: 1.0435 - acc: 0.9971 - val_loss: 2.3725 - val_acc: 0.6774\n",
      "Epoch 72/100\n",
      "7809/7809 [==============================] - 1s 164us/sample - loss: 1.0356 - acc: 0.9969 - val_loss: 2.3861 - val_acc: 0.6740\n",
      "Epoch 73/100\n",
      "7809/7809 [==============================] - 1s 157us/sample - loss: 1.0249 - acc: 0.9974 - val_loss: 2.3594 - val_acc: 0.6820\n",
      "Epoch 74/100\n",
      "7809/7809 [==============================] - 1s 160us/sample - loss: 1.0184 - acc: 0.9981 - val_loss: 2.3467 - val_acc: 0.6832\n",
      "Epoch 75/100\n",
      "7809/7809 [==============================] - 1s 161us/sample - loss: 1.0106 - acc: 0.9977 - val_loss: 2.3292 - val_acc: 0.6878\n",
      "Epoch 76/100\n",
      "7809/7809 [==============================] - 1s 160us/sample - loss: 1.0075 - acc: 0.9972 - val_loss: 2.3459 - val_acc: 0.6763\n",
      "Epoch 77/100\n",
      "7809/7809 [==============================] - 1s 160us/sample - loss: 0.9939 - acc: 0.9985 - val_loss: 2.3323 - val_acc: 0.6889\n",
      "Epoch 78/100\n",
      "7809/7809 [==============================] - 1s 160us/sample - loss: 0.9859 - acc: 0.9985 - val_loss: 2.3337 - val_acc: 0.6889\n",
      "Epoch 79/100\n",
      "7809/7809 [==============================] - 1s 159us/sample - loss: 0.9754 - acc: 0.9988 - val_loss: 2.3469 - val_acc: 0.6889\n",
      "Epoch 80/100\n",
      "7809/7809 [==============================] - 1s 159us/sample - loss: 0.9741 - acc: 0.9986 - val_loss: 2.4081 - val_acc: 0.6705\n",
      "Epoch 81/100\n",
      "7809/7809 [==============================] - 1s 160us/sample - loss: 0.9761 - acc: 0.9971 - val_loss: 2.3174 - val_acc: 0.6820\n",
      "Epoch 82/100\n",
      "7809/7809 [==============================] - 1s 162us/sample - loss: 0.9721 - acc: 0.9964 - val_loss: 2.3294 - val_acc: 0.6809\n",
      "Epoch 83/100\n",
      "7809/7809 [==============================] - 1s 160us/sample - loss: 0.9486 - acc: 0.9982 - val_loss: 2.3070 - val_acc: 0.6878\n",
      "Epoch 84/100\n",
      "7809/7809 [==============================] - 1s 163us/sample - loss: 0.9387 - acc: 0.9990 - val_loss: 2.3285 - val_acc: 0.6832\n",
      "Epoch 85/100\n",
      "7809/7809 [==============================] - 1s 165us/sample - loss: 0.9320 - acc: 0.9988 - val_loss: 2.2957 - val_acc: 0.6797\n",
      "Epoch 86/100\n",
      "7809/7809 [==============================] - 1s 163us/sample - loss: 0.9199 - acc: 0.9992 - val_loss: 2.3173 - val_acc: 0.6855\n",
      "Epoch 87/100\n",
      "7809/7809 [==============================] - 1s 160us/sample - loss: 0.9170 - acc: 0.9990 - val_loss: 2.3052 - val_acc: 0.6970\n",
      "Epoch 88/100\n",
      "7809/7809 [==============================] - 1s 159us/sample - loss: 0.9079 - acc: 0.9991 - val_loss: 2.2886 - val_acc: 0.6855\n",
      "Epoch 89/100\n",
      "7809/7809 [==============================] - 1s 162us/sample - loss: 0.9038 - acc: 0.9988 - val_loss: 2.2657 - val_acc: 0.6866\n",
      "Epoch 90/100\n",
      "7809/7809 [==============================] - 1s 159us/sample - loss: 0.8892 - acc: 0.9995 - val_loss: 2.2802 - val_acc: 0.6855\n",
      "Epoch 91/100\n",
      "7809/7809 [==============================] - 1s 164us/sample - loss: 0.8844 - acc: 0.9999 - val_loss: 2.2841 - val_acc: 0.6832\n",
      "Epoch 92/100\n",
      "7809/7809 [==============================] - 1s 160us/sample - loss: 0.8821 - acc: 0.9988 - val_loss: 2.2586 - val_acc: 0.6866\n",
      "Epoch 93/100\n",
      "7809/7809 [==============================] - 1s 160us/sample - loss: 0.8690 - acc: 0.9994 - val_loss: 2.2545 - val_acc: 0.6820\n",
      "Epoch 94/100\n",
      "7809/7809 [==============================] - 1s 161us/sample - loss: 0.8599 - acc: 0.9995 - val_loss: 2.2413 - val_acc: 0.6832\n",
      "Epoch 95/100\n",
      "7809/7809 [==============================] - 1s 165us/sample - loss: 0.8633 - acc: 0.9977 - val_loss: 2.2412 - val_acc: 0.6809\n",
      "Epoch 96/100\n",
      "7809/7809 [==============================] - 1s 161us/sample - loss: 0.8527 - acc: 0.9986 - val_loss: 2.2447 - val_acc: 0.6855\n",
      "Epoch 97/100\n",
      "7809/7809 [==============================] - 1s 157us/sample - loss: 0.8386 - acc: 0.9996 - val_loss: 2.2396 - val_acc: 0.6820\n",
      "Epoch 98/100\n",
      "7809/7809 [==============================] - 1s 160us/sample - loss: 0.8405 - acc: 0.9980 - val_loss: 2.2192 - val_acc: 0.6855\n",
      "Epoch 99/100\n",
      "7809/7809 [==============================] - 1s 159us/sample - loss: 0.8223 - acc: 0.9996 - val_loss: 2.2299 - val_acc: 0.6786\n",
      "Epoch 100/100\n",
      "7809/7809 [==============================] - 1s 159us/sample - loss: 0.8153 - acc: 0.9994 - val_loss: 2.1906 - val_acc: 0.6935\n"
     ]
    }
   ],
   "source": [
    "from keras import optimizers\n",
    "from keras.optimizers import Adam\n",
    "opt = keras.optimizers.Adam(learning_rate=0.0001)\n",
    "model_lin.compile(loss=tf.keras.losses.CategoricalCrossentropy(),\n",
    "              optimizer=opt,\n",
    "              metrics = ['accuracy'])\n",
    "\n",
    "history = model_lin.fit(X, dummy_y, epochs=100, validation_split=0.1, batch_size = 200)"
   ]
  },
  {
   "cell_type": "markdown",
   "metadata": {
    "colab_type": "text",
    "id": "aBYkoqCG_Fs5"
   },
   "source": [
    "Training and validation loss before changing activation function: 0.1661, 2.0176 \n",
    "Training and validation loss before changing activation function: 0.8153, 2.1906\n",
    "\n",
    "As we can see, the training and validation loss increases after changing activation function to linear. This cannot be compensated by adding more convolutional layers. "
   ]
  },
  {
   "cell_type": "code",
   "execution_count": 88,
   "metadata": {
    "colab": {
     "base_uri": "https://localhost:8080/",
     "height": 251
    },
    "colab_type": "code",
    "id": "-j2-mFHhAvQl",
    "outputId": "907db732-fdb8-40aa-83bb-7b00fb242194"
   },
   "outputs": [
    {
     "data": {
      "image/png": "[encoded data removed]",
      "text/plain": [
       "<Figure size 2160x2160 with 32 Axes>"
      ]
     },
     "metadata": {
      "tags": []
     },
     "output_type": "display_data"
    }
   ],
   "source": [
    "####visualize weights\n",
    "from matplotlib import pyplot\n",
    "filters, biases = model_base.layers[0].get_weights()\n",
    "# normalize filter values to 0-1 so we can visualize them\n",
    "f_min, f_max = filters.min(), filters.max()\n",
    "filters = (filters - f_min) / (f_max - f_min)\n",
    "# plot first few filters\n",
    "n_filters, ix = 32, 1\n",
    "pyplot.figure(figsize=(30,30))\n",
    "for i in range(n_filters):\n",
    "  f = filters[:, :, :, i]\n",
    "  ax = pyplot.subplot(n_filters,8, ix)\n",
    "  ax.set_xticks([])\n",
    "  ax.set_yticks([])\n",
    "  pyplot.imshow(f[:, :, 1])\n",
    "  ix +=1\n"
   ]
  },
  {
   "cell_type": "code",
   "execution_count": 0,
   "metadata": {
    "colab": {},
    "colab_type": "code",
    "id": "DKQZpE7SLr6X"
   },
   "outputs": [],
   "source": []
  }
 ],
 "metadata": {
  "accelerator": "GPU",
  "colab": {
   "collapsed_sections": [],
   "name": "Assignment2.ipynb",
   "provenance": []
  },
  "kernelspec": {
   "display_name": "Python 3",
   "language": "python",
   "name": "python3"
  },
  "language_info": {
   "codemirror_mode": {
    "name": "ipython",
    "version": 3
   },
   "file_extension": ".py",
   "mimetype": "text/x-python",
   "name": "python",
   "nbconvert_exporter": "python",
   "pygments_lexer": "ipython3",
   "version": "3.6.8"
  }
 },
 "nbformat": 4,
 "nbformat_minor": 1
}
